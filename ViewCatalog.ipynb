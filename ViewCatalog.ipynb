{
 "cells": [
  {
   "cell_type": "markdown",
   "metadata": {},
   "source": [
    "<a id='top'></a>"
   ]
  },
  {
   "cell_type": "markdown",
   "metadata": {},
   "source": [
    "# Pangeo CMIP6 Catalog Viewer"
   ]
  },
  {
   "cell_type": "code",
   "execution_count": null,
   "metadata": {},
   "outputs": [],
   "source": [
    "#! conda install -y -c conda-forge qgrid; jupyter labextension install -y qgrid"
   ]
  },
  {
   "cell_type": "markdown",
   "metadata": {},
   "source": [
    "### Helpful Links\n",
    "- Check availability at: [ESGF](https://esgf-node.llnl.gov/search/cmip6/)\n",
    "- [Variable Names](#variables)\n",
    "- [Table Names](#tables)\n",
    "- [Model Information](#models)\n",
    "- Experiments: [Tier 1](#experiments1) [Tier 2](#experiments2) [Tier 3](#experiments3) [Tier 4](#experiments4)\n",
    "- Others: [Member_id](#member) [Grid_label](#grid)"
   ]
  },
  {
   "cell_type": "code",
   "execution_count": null,
   "metadata": {},
   "outputs": [],
   "source": [
    "import pandas as pd\n",
    "import qgrid\n",
    "dfcat = pd.read_csv('https://cmip6.storage.googleapis.com/cmip6.csv')\n",
    "print('number of zstores:',dfcat.shape[0])"
   ]
  },
  {
   "cell_type": "markdown",
   "metadata": {},
   "source": [
    "<a id='catalog'></a>"
   ]
  },
  {
   "cell_type": "markdown",
   "metadata": {},
   "source": [
    "## Catalog Viewer\n",
    "- Click on filters (top right of each column)\n",
    "- Reset by running cell again"
   ]
  },
  {
   "cell_type": "code",
   "execution_count": null,
   "metadata": {},
   "outputs": [],
   "source": [
    "widget=qgrid.show_grid(dfcat.drop(['activity_id','institution_id'],1))\n",
    "widget"
   ]
  },
  {
   "cell_type": "code",
   "execution_count": null,
   "metadata": {},
   "outputs": [],
   "source": [
    "# save results\n",
    "df = widget.get_changed_df()     # use this to save filtered dataframe\n",
    "# df = widget.get_selected_df()  # use this instead to save selected rows"
   ]
  },
  {
   "cell_type": "code",
   "execution_count": null,
   "metadata": {},
   "outputs": [],
   "source": [
    "zstores = sorted(df.zstore.values)\n",
    "print(zstores[0:10])"
   ]
  },
  {
   "cell_type": "code",
   "execution_count": null,
   "metadata": {},
   "outputs": [],
   "source": [
    "df.to_csv('save.csv', mode='w', index=False)"
   ]
  },
  {
   "cell_type": "markdown",
   "metadata": {},
   "source": [
    "<a id='variables'></a>"
   ]
  },
  {
   "cell_type": "markdown",
   "metadata": {},
   "source": [
    "## Variables\n",
    "[return to viewer](#catalog)"
   ]
  },
  {
   "cell_type": "code",
   "execution_count": null,
   "metadata": {},
   "outputs": [],
   "source": [
    "df = pd.read_csv('http://fletcher.ldeo.columbia.edu/catalogs/Variables.csv')\n",
    "qgrid.show_grid(df, column_definitions={'description':{'width':400}})"
   ]
  },
  {
   "cell_type": "markdown",
   "metadata": {},
   "source": [
    "<a id='tables'></a>"
   ]
  },
  {
   "cell_type": "markdown",
   "metadata": {},
   "source": [
    "## Tables\n",
    "[return to viewer](#catalog)"
   ]
  },
  {
   "cell_type": "code",
   "execution_count": null,
   "metadata": {},
   "outputs": [],
   "source": [
    "df = pd.read_csv('http://fletcher.ldeo.columbia.edu/catalogs/Tables.csv')\n",
    "qgrid.show_grid(df, column_definitions={'description':{'width':400}})"
   ]
  },
  {
   "cell_type": "markdown",
   "metadata": {},
   "source": [
    "<a id='models'></a>"
   ]
  },
  {
   "cell_type": "markdown",
   "metadata": {},
   "source": [
    "# Model Information\n",
    "[return to viewer](#catalog)"
   ]
  },
  {
   "cell_type": "code",
   "execution_count": null,
   "metadata": {},
   "outputs": [],
   "source": [
    "df = pd.read_csv('http://fletcher.ldeo.columbia.edu/catalogs/Models.csv')\n",
    "qgrid.show_grid(df)"
   ]
  },
  {
   "cell_type": "markdown",
   "metadata": {},
   "source": [
    "<a id='experiments1'></a>"
   ]
  },
  {
   "cell_type": "markdown",
   "metadata": {},
   "source": [
    "## Tier 1 Experiments\n",
    "[return to viewer](#catalog)"
   ]
  },
  {
   "cell_type": "code",
   "execution_count": null,
   "metadata": {},
   "outputs": [],
   "source": [
    "df = pd.read_csv('http://fletcher.ldeo.columbia.edu/catalogs/Experiments_tier1.csv')\n",
    "qgrid.show_grid(df)"
   ]
  },
  {
   "cell_type": "markdown",
   "metadata": {},
   "source": [
    "<a id='experiments2'></a>"
   ]
  },
  {
   "cell_type": "markdown",
   "metadata": {},
   "source": [
    "## Tier 2 Experiments\n",
    "[return to viewer](#catalog)"
   ]
  },
  {
   "cell_type": "code",
   "execution_count": null,
   "metadata": {},
   "outputs": [],
   "source": [
    "df = pd.read_csv('http://fletcher.ldeo.columbia.edu/catalogs/Experiments_tier2.csv')\n",
    "qgrid.show_grid(df)"
   ]
  },
  {
   "cell_type": "markdown",
   "metadata": {},
   "source": [
    "<a id='experiments3'></a>"
   ]
  },
  {
   "cell_type": "markdown",
   "metadata": {},
   "source": [
    "## Tier 3 Experiments\n",
    "[return to viewer](#catalog)"
   ]
  },
  {
   "cell_type": "code",
   "execution_count": null,
   "metadata": {},
   "outputs": [],
   "source": [
    "df = pd.read_csv('http://fletcher.ldeo.columbia.edu/catalogs/Experiments_tier3.csv')\n",
    "qgrid.show_grid(df)"
   ]
  },
  {
   "cell_type": "markdown",
   "metadata": {},
   "source": [
    "<a id='experiments4'></a>"
   ]
  },
  {
   "cell_type": "markdown",
   "metadata": {},
   "source": [
    "## Tier 4 Experiments\n",
    "[return to viewer](#catalog)"
   ]
  },
  {
   "cell_type": "code",
   "execution_count": null,
   "metadata": {},
   "outputs": [],
   "source": [
    "df = pd.read_csv('http://fletcher.ldeo.columbia.edu/catalogs/Experiments_tier4.csv')\n",
    "qgrid.show_grid(df)"
   ]
  },
  {
   "cell_type": "markdown",
   "metadata": {},
   "source": [
    "<a id='member'></a>"
   ]
  },
  {
   "cell_type": "markdown",
   "metadata": {},
   "source": [
    "## member_id: \n",
    "[return to viewer](#catalog)\n",
    "\n",
    "```\n",
    "a key constructed from 4 indices stored as global attributes:\n",
    "\n",
    "member_id = r<k>i<l>p<m>f<n>\n",
    "\n",
    "       where\n",
    "\n",
    " k = realization_index\n",
    " l = initialization_index\n",
    " m = physics_index\n",
    " n = forcing_index\n",
    "```"
   ]
  },
  {
   "cell_type": "markdown",
   "metadata": {},
   "source": [
    "<a id='grid'></a>"
   ]
  },
  {
   "cell_type": "markdown",
   "metadata": {},
   "source": [
    "## grid_label: \n",
    "[return to viewer](#catalog)\n",
    "```\n",
    "a key indicating if on native grid, regridded, etc\n",
    "Modeling groups may choose to report their output on the model’s native grid and/or regrid it to one or more target grids. To distinguish between output reported on different grids, a “grid_label” attribute is defined.\n",
    "\n",
    "The rules for assigning grid labels should make it easy for users to select (using the ESGF search tools) CMIP output that is on a grid considered by each\n",
    "modeling group to best represent its model -- the so-called “primary” grid. If output is reported on the native grid, this is always deemed the “primary”\n",
    "grid. If output is not reported on the native grid, then modeling groups should regrid the data to some primary grid of its choosing For the “primary”\n",
    "grid the following labels apply:\n",
    "\n",
    "grid_label = \"gn\" (output is reported on the native grid)\n",
    "grid_label = \"gr\" (output is not reported on the native grid, but instead is regridded by the modeling group to a “primary grid” of its choosing)\n",
    "grid_label = “gm” (global mean output is reported, so data are not gridded)\n",
    "\n",
    "As noted below sometimes a “z” or “a” or “g” is appended to the labels to indicate “zonal means” or grids limited to Antarctica or Greenland.\n",
    "If besides the “primary” grid, output is regridded to an additional grid, then for this output:\n",
    "grid_label = \"gr[i]\" (a “secondary” grid), where <i> should be replaced by a positive integer less than 10, which distinguishes this output from\n",
    "other regridded output.\n",
    "```"
   ]
  },
  {
   "cell_type": "markdown",
   "metadata": {},
   "source": [
    "[return to top](#top)"
   ]
  },
  {
   "cell_type": "markdown",
   "metadata": {},
   "source": [
    "Naomi Henderson (nhn2@columbia.edu), Oct 2019"
   ]
  },
  {
   "cell_type": "code",
   "execution_count": null,
   "metadata": {},
   "outputs": [],
   "source": []
  }
 ],
 "metadata": {
  "kernelspec": {
   "display_name": "pangeo-latest",
   "language": "python",
   "name": "pangeo-latest"
  },
  "language_info": {
   "codemirror_mode": {
    "name": "ipython",
    "version": 3
   },
   "file_extension": ".py",
   "mimetype": "text/x-python",
   "name": "python",
   "nbconvert_exporter": "python",
   "pygments_lexer": "ipython3",
   "version": "3.7.3"
  }
 },
 "nbformat": 4,
 "nbformat_minor": 4
}
